{
 "cells": [
  {
   "cell_type": "code",
   "execution_count": 4,
   "metadata": {
    "collapsed": false
   },
   "outputs": [
    {
     "name": "stdout",
     "output_type": "stream",
     "text": [
      "Tableof two Cities\n",
      "Harry Potter\n",
      "Lord of the Rings\n"
     ]
    }
   ],
   "source": [
    "books = ['Tableof two Cities','Harry Potter','Lord of the Rings']\n",
    "nums = range(100)\n",
    "\n",
    "for b in books:\n",
    "    print(b)"
   ]
  },
  {
   "cell_type": "code",
   "execution_count": 5,
   "metadata": {
    "collapsed": false
   },
   "outputs": [
    {
     "data": {
      "text/plain": [
       "['Tableof two Cities', 'Harry Potter', 'Lord of the Rings']"
      ]
     },
     "execution_count": 5,
     "metadata": {},
     "output_type": "execute_result"
    }
   ],
   "source": [
    "books"
   ]
  },
  {
   "cell_type": "code",
   "execution_count": 11,
   "metadata": {
    "collapsed": false
   },
   "outputs": [
    {
     "name": "stdout",
     "output_type": "stream",
     "text": [
      "0 is even\n",
      "1 is odd\n",
      "2 is even\n",
      "3 is odd\n",
      "4 is even\n",
      "5 is odd\n",
      "6 is even\n",
      "7 is odd\n",
      "8 is even\n",
      "9 is odd\n",
      "10 is even\n",
      "11 is odd\n",
      "12 is even\n",
      "13 is odd\n",
      "14 is even\n",
      "15 is odd\n",
      "16 is even\n",
      "17 is odd\n",
      "18 is even\n",
      "19 is odd\n",
      "20 is even\n",
      "21 is odd\n",
      "22 is even\n",
      "23 is odd\n",
      "24 is even\n",
      "25 is odd\n",
      "26 is even\n",
      "27 is odd\n",
      "28 is even\n",
      "29 is odd\n",
      "30 is even\n",
      "31 is odd\n",
      "32 is even\n",
      "33 is odd\n",
      "34 is even\n",
      "35 is odd\n",
      "36 is even\n",
      "37 is odd\n",
      "38 is even\n",
      "39 is odd\n",
      "40 is even\n",
      "41 is odd\n",
      "42 is even\n",
      "43 is odd\n",
      "44 is even\n",
      "45 is odd\n",
      "46 is even\n",
      "47 is odd\n",
      "48 is even\n",
      "49 is odd\n",
      "50 is even\n",
      "51 is odd\n",
      "52 is even\n",
      "53 is odd\n",
      "54 is even\n",
      "55 is odd\n",
      "56 is even\n",
      "57 is odd\n",
      "58 is even\n",
      "59 is odd\n",
      "60 is even\n",
      "61 is odd\n",
      "62 is even\n",
      "63 is odd\n",
      "64 is even\n",
      "65 is odd\n",
      "66 is even\n",
      "67 is odd\n",
      "68 is even\n",
      "69 is odd\n",
      "70 is even\n",
      "71 is odd\n",
      "72 is even\n",
      "73 is odd\n",
      "74 is even\n",
      "75 is odd\n",
      "76 is even\n",
      "77 is odd\n",
      "78 is even\n",
      "79 is odd\n",
      "80 is even\n",
      "81 is odd\n",
      "82 is even\n",
      "83 is odd\n",
      "84 is even\n",
      "85 is odd\n",
      "86 is even\n",
      "87 is odd\n",
      "88 is even\n",
      "89 is odd\n",
      "90 is even\n",
      "91 is odd\n",
      "92 is even\n",
      "93 is odd\n",
      "94 is even\n",
      "95 is odd\n",
      "96 is even\n",
      "97 is odd\n",
      "98 is even\n",
      "99 is odd\n"
     ]
    }
   ],
   "source": [
    "nums = range(100)\n",
    "for number in nums:\n",
    "    if number%2 == 0:\n",
    "        print(str(number) + ' is even')\n",
    "    else:\n",
    "        print(str(number) + ' is odd')"
   ]
  },
  {
   "cell_type": "code",
   "execution_count": 14,
   "metadata": {
    "collapsed": false
   },
   "outputs": [
    {
     "name": "stdout",
     "output_type": "stream",
     "text": [
      "0\n",
      "2\n",
      "4\n",
      "6\n",
      "8\n",
      "10\n",
      "12\n",
      "14\n",
      "16\n",
      "18\n",
      "20\n",
      "22\n",
      "24\n",
      "26\n",
      "28\n",
      "30\n",
      "32\n",
      "34\n",
      "36\n",
      "38\n",
      "40\n",
      "42\n",
      "44\n",
      "46\n",
      "48\n",
      "50\n",
      "52\n",
      "54\n",
      "56\n",
      "58\n",
      "60\n",
      "62\n",
      "64\n",
      "66\n",
      "68\n",
      "70\n",
      "72\n",
      "74\n",
      "76\n",
      "78\n",
      "80\n",
      "82\n",
      "84\n",
      "86\n",
      "88\n",
      "90\n",
      "92\n",
      "94\n",
      "96\n",
      "98\n"
     ]
    }
   ],
   "source": [
    "def isEven(n):\n",
    "    return n%2 == 0\n",
    "\n",
    "nums = range(100)\n",
    "for n in nums:\n",
    "    if isEven(n):\n",
    "        print (n)\n"
   ]
  },
  {
   "cell_type": "code",
   "execution_count": null,
   "metadata": {
    "collapsed": true
   },
   "outputs": [],
   "source": []
  }
 ],
 "metadata": {
  "kernelspec": {
   "display_name": "Python 3",
   "language": "python",
   "name": "python3"
  },
  "language_info": {
   "codemirror_mode": {
    "name": "ipython",
    "version": 3
   },
   "file_extension": ".py",
   "mimetype": "text/x-python",
   "name": "python",
   "nbconvert_exporter": "python",
   "pygments_lexer": "ipython3",
   "version": "3.5.1"
  }
 },
 "nbformat": 4,
 "nbformat_minor": 0
}
